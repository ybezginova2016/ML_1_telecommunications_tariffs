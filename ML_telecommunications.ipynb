{
 "cells": [
  {
   "cell_type": "markdown",
   "id": "3590eefc",
   "metadata": {},
   "source": [
    "# Рекомендация тарифов"
   ]
  },
  {
   "cell_type": "markdown",
   "id": "7aacaad6",
   "metadata": {},
   "source": [
    "В вашем распоряжении данные о поведении клиентов, которые уже перешли на эти тарифы (из проекта курса «Статистический анализ данных»). Нужно построить модель для задачи классификации, которая выберет подходящий тариф. Предобработка данных не понадобится — вы её уже сделали.\n",
    "\n",
    "Постройте модель с максимально большим значением *accuracy*. Чтобы сдать проект успешно, нужно довести долю правильных ответов по крайней мере до 0.75. Проверьте *accuracy* на тестовой выборке самостоятельно."
   ]
  },
  {
   "cell_type": "markdown",
   "id": "fc748789",
   "metadata": {},
   "source": [
    "### Структура данных:"
   ]
  },
  {
   "cell_type": "markdown",
   "id": "327f9dc0",
   "metadata": {},
   "source": [
    "- сalls — количество звонков,\n",
    "- minutes — суммарная длительность звонков в минутах,\n",
    "- messages — количество sms-сообщений,\n",
    "- mb_used — израсходованный интернет-трафик в Мб,\n",
    "- is_ultra — каким тарифом пользовался в течение месяца («Ультра» — 1, «Смарт» — 0)."
   ]
  },
  {
   "cell_type": "markdown",
   "id": "d79d8dbf",
   "metadata": {},
   "source": [
    "### План исследования"
   ]
  },
  {
   "cell_type": "markdown",
   "id": "422e5626",
   "metadata": {},
   "source": [
    "```\n",
    "1) Изучить файл с данными.\n",
    "2) Разбить данные на три выборки: обучающая, валидационная и тестовая.\n",
    "3) Исследовать три модели классификации: Решающее дерево, Случайный лес и Логистическая регрессия.\n",
    "4) Найти оптимальные параметры для каждой модели и выбрать одну из них для обучения модели.\n",
    "5) Оценить точность обученной модели.\n",
    "6) Оценить адекватность модели.\n",
    "```"
   ]
  },
  {
   "cell_type": "code",
   "execution_count": 203,
   "id": "c52036cd",
   "metadata": {},
   "outputs": [],
   "source": [
    "import pandas as pd\n",
    "import numpy as np\n",
    "from sklearn.model_selection import train_test_split\n",
    "from sklearn.tree import DecisionTreeClassifier \n",
    "from sklearn.ensemble import RandomForestClassifier\n",
    "from sklearn.linear_model import LogisticRegression\n",
    "from sklearn.metrics import accuracy_score\n",
    "from sklearn.metrics import precision_score\n",
    "from sklearn.metrics import recall_score\n",
    "from sklearn.metrics import f1_score\n",
    "import warnings\n",
    "warnings.filterwarnings('ignore')\n",
    "warnings.simplefilter(\"ignore\", category=RuntimeWarning)\n",
    "pd.options.mode.chained_assignment = None "
   ]
  },
  {
   "cell_type": "markdown",
   "id": "08530381",
   "metadata": {},
   "source": [
    "## 1 - Откройте и изучите файл"
   ]
  },
  {
   "cell_type": "code",
   "execution_count": 204,
   "id": "e9ca22a1",
   "metadata": {},
   "outputs": [],
   "source": [
    "df = pd.read_csv('/Users/yuliabezginova/Documents/DS/praktikum/project-5_ML_mobile-learning/users_behavior.csv')"
   ]
  },
  {
   "cell_type": "code",
   "execution_count": 205,
   "id": "e9cf1b64",
   "metadata": {
    "scrolled": true
   },
   "outputs": [
    {
     "data": {
      "text/html": [
       "<div>\n",
       "<style scoped>\n",
       "    .dataframe tbody tr th:only-of-type {\n",
       "        vertical-align: middle;\n",
       "    }\n",
       "\n",
       "    .dataframe tbody tr th {\n",
       "        vertical-align: top;\n",
       "    }\n",
       "\n",
       "    .dataframe thead th {\n",
       "        text-align: right;\n",
       "    }\n",
       "</style>\n",
       "<table border=\"1\" class=\"dataframe\">\n",
       "  <thead>\n",
       "    <tr style=\"text-align: right;\">\n",
       "      <th></th>\n",
       "      <th>calls</th>\n",
       "      <th>minutes</th>\n",
       "      <th>messages</th>\n",
       "      <th>mb_used</th>\n",
       "      <th>is_ultra</th>\n",
       "    </tr>\n",
       "  </thead>\n",
       "  <tbody>\n",
       "    <tr>\n",
       "      <th>0</th>\n",
       "      <td>40.0</td>\n",
       "      <td>311.90</td>\n",
       "      <td>83.0</td>\n",
       "      <td>19915.42</td>\n",
       "      <td>0</td>\n",
       "    </tr>\n",
       "    <tr>\n",
       "      <th>1</th>\n",
       "      <td>85.0</td>\n",
       "      <td>516.75</td>\n",
       "      <td>56.0</td>\n",
       "      <td>22696.96</td>\n",
       "      <td>0</td>\n",
       "    </tr>\n",
       "    <tr>\n",
       "      <th>2</th>\n",
       "      <td>77.0</td>\n",
       "      <td>467.66</td>\n",
       "      <td>86.0</td>\n",
       "      <td>21060.45</td>\n",
       "      <td>0</td>\n",
       "    </tr>\n",
       "    <tr>\n",
       "      <th>3</th>\n",
       "      <td>106.0</td>\n",
       "      <td>745.53</td>\n",
       "      <td>81.0</td>\n",
       "      <td>8437.39</td>\n",
       "      <td>1</td>\n",
       "    </tr>\n",
       "    <tr>\n",
       "      <th>4</th>\n",
       "      <td>66.0</td>\n",
       "      <td>418.74</td>\n",
       "      <td>1.0</td>\n",
       "      <td>14502.75</td>\n",
       "      <td>0</td>\n",
       "    </tr>\n",
       "    <tr>\n",
       "      <th>...</th>\n",
       "      <td>...</td>\n",
       "      <td>...</td>\n",
       "      <td>...</td>\n",
       "      <td>...</td>\n",
       "      <td>...</td>\n",
       "    </tr>\n",
       "    <tr>\n",
       "      <th>3209</th>\n",
       "      <td>122.0</td>\n",
       "      <td>910.98</td>\n",
       "      <td>20.0</td>\n",
       "      <td>35124.90</td>\n",
       "      <td>1</td>\n",
       "    </tr>\n",
       "    <tr>\n",
       "      <th>3210</th>\n",
       "      <td>25.0</td>\n",
       "      <td>190.36</td>\n",
       "      <td>0.0</td>\n",
       "      <td>3275.61</td>\n",
       "      <td>0</td>\n",
       "    </tr>\n",
       "    <tr>\n",
       "      <th>3211</th>\n",
       "      <td>97.0</td>\n",
       "      <td>634.44</td>\n",
       "      <td>70.0</td>\n",
       "      <td>13974.06</td>\n",
       "      <td>0</td>\n",
       "    </tr>\n",
       "    <tr>\n",
       "      <th>3212</th>\n",
       "      <td>64.0</td>\n",
       "      <td>462.32</td>\n",
       "      <td>90.0</td>\n",
       "      <td>31239.78</td>\n",
       "      <td>0</td>\n",
       "    </tr>\n",
       "    <tr>\n",
       "      <th>3213</th>\n",
       "      <td>80.0</td>\n",
       "      <td>566.09</td>\n",
       "      <td>6.0</td>\n",
       "      <td>29480.52</td>\n",
       "      <td>1</td>\n",
       "    </tr>\n",
       "  </tbody>\n",
       "</table>\n",
       "<p>3214 rows × 5 columns</p>\n",
       "</div>"
      ],
      "text/plain": [
       "      calls  minutes  messages   mb_used  is_ultra\n",
       "0      40.0   311.90      83.0  19915.42         0\n",
       "1      85.0   516.75      56.0  22696.96         0\n",
       "2      77.0   467.66      86.0  21060.45         0\n",
       "3     106.0   745.53      81.0   8437.39         1\n",
       "4      66.0   418.74       1.0  14502.75         0\n",
       "...     ...      ...       ...       ...       ...\n",
       "3209  122.0   910.98      20.0  35124.90         1\n",
       "3210   25.0   190.36       0.0   3275.61         0\n",
       "3211   97.0   634.44      70.0  13974.06         0\n",
       "3212   64.0   462.32      90.0  31239.78         0\n",
       "3213   80.0   566.09       6.0  29480.52         1\n",
       "\n",
       "[3214 rows x 5 columns]"
      ]
     },
     "execution_count": 205,
     "metadata": {},
     "output_type": "execute_result"
    }
   ],
   "source": [
    "df"
   ]
  },
  {
   "cell_type": "code",
   "execution_count": 206,
   "id": "120eeee1",
   "metadata": {},
   "outputs": [
    {
     "data": {
      "text/html": [
       "<div>\n",
       "<style scoped>\n",
       "    .dataframe tbody tr th:only-of-type {\n",
       "        vertical-align: middle;\n",
       "    }\n",
       "\n",
       "    .dataframe tbody tr th {\n",
       "        vertical-align: top;\n",
       "    }\n",
       "\n",
       "    .dataframe thead th {\n",
       "        text-align: right;\n",
       "    }\n",
       "</style>\n",
       "<table border=\"1\" class=\"dataframe\">\n",
       "  <thead>\n",
       "    <tr style=\"text-align: right;\">\n",
       "      <th></th>\n",
       "      <th>calls</th>\n",
       "      <th>minutes</th>\n",
       "      <th>messages</th>\n",
       "      <th>mb_used</th>\n",
       "      <th>is_ultra</th>\n",
       "    </tr>\n",
       "  </thead>\n",
       "  <tbody>\n",
       "    <tr>\n",
       "      <th>0</th>\n",
       "      <td>40.0</td>\n",
       "      <td>311.90</td>\n",
       "      <td>83.0</td>\n",
       "      <td>19915.42</td>\n",
       "      <td>0</td>\n",
       "    </tr>\n",
       "    <tr>\n",
       "      <th>1</th>\n",
       "      <td>85.0</td>\n",
       "      <td>516.75</td>\n",
       "      <td>56.0</td>\n",
       "      <td>22696.96</td>\n",
       "      <td>0</td>\n",
       "    </tr>\n",
       "    <tr>\n",
       "      <th>2</th>\n",
       "      <td>77.0</td>\n",
       "      <td>467.66</td>\n",
       "      <td>86.0</td>\n",
       "      <td>21060.45</td>\n",
       "      <td>0</td>\n",
       "    </tr>\n",
       "    <tr>\n",
       "      <th>3</th>\n",
       "      <td>106.0</td>\n",
       "      <td>745.53</td>\n",
       "      <td>81.0</td>\n",
       "      <td>8437.39</td>\n",
       "      <td>1</td>\n",
       "    </tr>\n",
       "    <tr>\n",
       "      <th>4</th>\n",
       "      <td>66.0</td>\n",
       "      <td>418.74</td>\n",
       "      <td>1.0</td>\n",
       "      <td>14502.75</td>\n",
       "      <td>0</td>\n",
       "    </tr>\n",
       "  </tbody>\n",
       "</table>\n",
       "</div>"
      ],
      "text/plain": [
       "   calls  minutes  messages   mb_used  is_ultra\n",
       "0   40.0   311.90      83.0  19915.42         0\n",
       "1   85.0   516.75      56.0  22696.96         0\n",
       "2   77.0   467.66      86.0  21060.45         0\n",
       "3  106.0   745.53      81.0   8437.39         1\n",
       "4   66.0   418.74       1.0  14502.75         0"
      ]
     },
     "execution_count": 206,
     "metadata": {},
     "output_type": "execute_result"
    }
   ],
   "source": [
    "df.head()"
   ]
  },
  {
   "cell_type": "markdown",
   "id": "d7d37718",
   "metadata": {},
   "source": [
    "### Вывод:"
   ]
  },
  {
   "cell_type": "markdown",
   "id": "4e686053",
   "metadata": {},
   "source": [
    "Перед нами стоит задача ___классификации___. За целевой признак берем столбец _is_ultra_. Остальные признаки помогут нам предсказывать решение по столбцу _is_ultra_. В датасете 3200 наблюдений, это не так много, а значит, может возникнуть проблема _underfitting_: если модель будет хорошо работать на обучающем наборе, но не сможет обобщать результат на новые данные."
   ]
  },
  {
   "cell_type": "markdown",
   "id": "12d19693",
   "metadata": {},
   "source": [
    "## 2 - Разбейте данные на выборки"
   ]
  },
  {
   "cell_type": "markdown",
   "id": "70780769",
   "metadata": {},
   "source": [
    "Разбивать исходные датасет будем в два этапа."
   ]
  },
  {
   "cell_type": "markdown",
   "id": "a45f10c4",
   "metadata": {},
   "source": [
    "```\n",
    "Разобьем sample в следующей пропорции:\n",
    "- 70% train_data\n",
    "- 10% validation_data\n",
    "- 20% test_data\n",
    "\n",
    "```"
   ]
  },
  {
   "cell_type": "code",
   "execution_count": 207,
   "id": "66d2ab9b",
   "metadata": {},
   "outputs": [
    {
     "name": "stdout",
     "output_type": "stream",
     "text": [
      "Размер тренерующей выборки: 2249\n",
      "Размер валидационной выборки: 289\n",
      "Размер тестовой выборки: 676\n"
     ]
    }
   ],
   "source": [
    "train_data, other_data = train_test_split(df, test_size=0.30, random_state=2355555)\n",
    "validation_data, test_data = train_test_split(other_data, test_size=0.70, random_state=2355555)\n",
    "\n",
    "print('Размер тренерующей выборки:', len(train_data))\n",
    "print('Размер валидационной выборки:', validation_data.shape[0])\n",
    "print('Размер тестовой выборки:', test_data.shape[0])"
   ]
  },
  {
   "cell_type": "markdown",
   "id": "5d8e235b",
   "metadata": {},
   "source": [
    "Выделим определяющие и целевой признаки модели."
   ]
  },
  {
   "cell_type": "code",
   "execution_count": 208,
   "id": "515f546c",
   "metadata": {},
   "outputs": [],
   "source": [
    "train_data_features = train_data.drop(['is_ultra'], axis=1)\n",
    "train_data_target = train_data['is_ultra']"
   ]
  },
  {
   "cell_type": "code",
   "execution_count": 209,
   "id": "d4b23546",
   "metadata": {},
   "outputs": [],
   "source": [
    "validation_data_features = validation_data.drop(['is_ultra'], axis=1)\n",
    "validation_data_target = validation_data['is_ultra']"
   ]
  },
  {
   "cell_type": "code",
   "execution_count": 210,
   "id": "9afaaec5",
   "metadata": {},
   "outputs": [],
   "source": [
    "test_data_features = test_data.drop(['is_ultra'], axis=1)\n",
    "test_data_target = test_data['is_ultra']"
   ]
  },
  {
   "cell_type": "markdown",
   "id": "65965a1e",
   "metadata": {},
   "source": [
    "**Данные были разбиты на три подвыборки в пропорции 70/10/30.**\n",
    "\n",
    "- Обучение пройдет на данных train_data\n",
    "- Валидация модели на данных validation_data\n",
    "- Лучшая модель по валидации будет применена на данных test_data\n"
   ]
  },
  {
   "cell_type": "markdown",
   "id": "78ef026a",
   "metadata": {},
   "source": [
    "## 3 - Исследуйте модели"
   ]
  },
  {
   "cell_type": "markdown",
   "id": "30a420e0",
   "metadata": {},
   "source": [
    "### 3.1 Decision Tree"
   ]
  },
  {
   "cell_type": "code",
   "execution_count": 211,
   "id": "a5ec448e",
   "metadata": {},
   "outputs": [
    {
     "name": "stdout",
     "output_type": "stream",
     "text": [
      "Лучшая глубина дерева: 100 \n",
      "Лучшая правильность (\"accuracy\"): 0.7162629757785467\n",
      "CPU times: user 1.29 s, sys: 19.6 ms, total: 1.31 s\n",
      "Wall time: 1.37 s\n"
     ]
    }
   ],
   "source": [
    "%%time\n",
    "\n",
    "best_depth = 0\n",
    "best_accuracy_tree = 0\n",
    "\n",
    "for depth in range(1, 101):\n",
    "    model = DecisionTreeClassifier(random_state=2355555, max_depth=depth)\n",
    "    model.fit(train_data_features, train_data_target)\n",
    "    valid_predictions = model.predict(validation_data_features)\n",
    "    accuracy = accuracy_score(validation_data_target, valid_predictions)\n",
    "#   print('Глубина дерева', depth,'Точность',accuracy)\n",
    "    if accuracy > best_accuracy:\n",
    "        best_depth = depth\n",
    "        best_accuracy_tree = accuracy\n",
    "print('Лучшая глубина дерева:', best_depth,'\\nЛучшая правильность (\"accuracy\"):', best_accuracy_tree)        "
   ]
  },
  {
   "cell_type": "markdown",
   "id": "68a0d8e0",
   "metadata": {},
   "source": [
    "**_Decision Tree:_ лучший показатель при глубине дерева 5.**"
   ]
  },
  {
   "cell_type": "markdown",
   "id": "575c61bb",
   "metadata": {},
   "source": [
    "Начинаем перебирать разные гиперпараметры модели."
   ]
  },
  {
   "cell_type": "markdown",
   "id": "3f5fb98a",
   "metadata": {},
   "source": [
    "- ___max_depth=8___"
   ]
  },
  {
   "cell_type": "code",
   "execution_count": 212,
   "id": "eac9112d",
   "metadata": {},
   "outputs": [
    {
     "name": "stdout",
     "output_type": "stream",
     "text": [
      "Глубина дерева: 8 \n",
      "Правильность (\"accuracy\") при max_depth=8: 0.7716262975778547\n",
      "CPU times: user 12.2 ms, sys: 3.49 ms, total: 15.7 ms\n",
      "Wall time: 19.4 ms\n"
     ]
    }
   ],
   "source": [
    "%%time\n",
    "\n",
    "best_tree_model = DecisionTreeClassifier(random_state=2355555, max_depth=8)\n",
    "best_tree_model.fit(train_data_features, train_data_target)\n",
    "valid_predictions = best_tree_model.predict(validation_data_features)\n",
    "accuracy = accuracy_score(validation_data_target, valid_predictions)\n",
    "print('Глубина дерева:', 8,'\\nПравильность (\"accuracy\") при max_depth=8:', accuracy)"
   ]
  },
  {
   "cell_type": "markdown",
   "id": "09d0b5d9",
   "metadata": {},
   "source": [
    "- ___criterion=\"gini\" --> criterion=\"entropy\"___"
   ]
  },
  {
   "cell_type": "code",
   "execution_count": 213,
   "id": "aa0430da",
   "metadata": {},
   "outputs": [
    {
     "name": "stdout",
     "output_type": "stream",
     "text": [
      "Глубина дерева: 8 \n",
      "Правильность (\"accuracy\") при max_depth=8, criterion=\"entropy\": 0.7716262975778547\n",
      "CPU times: user 17 ms, sys: 2.56 ms, total: 19.6 ms\n",
      "Wall time: 25.6 ms\n"
     ]
    }
   ],
   "source": [
    "%%time\n",
    "\n",
    "model = DecisionTreeClassifier(random_state=2355555, max_depth=8, criterion=\"entropy\")\n",
    "model.fit(train_data_features, train_data_target)\n",
    "valid_predictions = best_tree_model.predict(validation_data_features)\n",
    "accuracy = accuracy_score(validation_data_target, valid_predictions)\n",
    "print('Глубина дерева:', 8,'\\nПравильность (\"accuracy\") при max_depth=8, criterion=\"entropy\":', accuracy)"
   ]
  },
  {
   "cell_type": "markdown",
   "id": "8d6faff3",
   "metadata": {},
   "source": [
    "Точность модели не изменилась при criterion=\"entropy\"."
   ]
  },
  {
   "cell_type": "markdown",
   "id": "4aaed4c4",
   "metadata": {},
   "source": [
    "- ___splitter=\"best\" --> splitter='random'___"
   ]
  },
  {
   "cell_type": "code",
   "execution_count": 214,
   "id": "f7932a54",
   "metadata": {},
   "outputs": [
    {
     "name": "stdout",
     "output_type": "stream",
     "text": [
      "Глубина дерева: 8 \n",
      "Правильность (\"accuracy\") при max_depth=8, criterion=\"entropy\", splitter=\"random\": 0.7716262975778547\n",
      "CPU times: user 6.89 ms, sys: 3.18 ms, total: 10.1 ms\n",
      "Wall time: 11.8 ms\n"
     ]
    }
   ],
   "source": [
    "%%time\n",
    "\n",
    "model = DecisionTreeClassifier(random_state=2355555, max_depth=8, splitter=\"random\")\n",
    "model.fit(train_data_features, train_data_target)\n",
    "valid_predictions = best_tree_model.predict(validation_data_features)\n",
    "accuracy = accuracy_score(validation_data_target, valid_predictions)\n",
    "print('Глубина дерева:', 8,'\\nПравильность (\"accuracy\") при max_depth=8, criterion=\"entropy\", splitter=\"random\":', accuracy)"
   ]
  },
  {
   "cell_type": "markdown",
   "id": "d2770d07",
   "metadata": {},
   "source": [
    "Точность модели не изменилась при splitter=\"random\"."
   ]
  },
  {
   "cell_type": "code",
   "execution_count": 215,
   "id": "e2d062c9",
   "metadata": {},
   "outputs": [
    {
     "name": "stdout",
     "output_type": "stream",
     "text": [
      "Глубина дерева: 8 \n",
      "Правильность (\"accuracy\") при max_depth=8: 0.7716262975778547\n",
      "CPU times: user 12.3 ms, sys: 2.96 ms, total: 15.2 ms\n",
      "Wall time: 16.9 ms\n"
     ]
    }
   ],
   "source": [
    "%%time\n",
    "\n",
    "best_tree_model = DecisionTreeClassifier(random_state=2355555, max_depth=8)\n",
    "best_tree_model.fit(train_data_features, train_data_target)\n",
    "valid_predictions = best_tree_model.predict(validation_data_features)\n",
    "best_accuracy_tree = accuracy_score(validation_data_target, valid_predictions)\n",
    "print('Глубина дерева:', 8,'\\nПравильность (\"accuracy\") при max_depth=8:', best_accuracy_tree)"
   ]
  },
  {
   "cell_type": "markdown",
   "id": "6c476c3f",
   "metadata": {},
   "source": [
    "### 3.2 Random Forest"
   ]
  },
  {
   "cell_type": "markdown",
   "id": "fa9b8b43",
   "metadata": {},
   "source": [
    "- подберем гиперпараметр **__n_estimators__**"
   ]
  },
  {
   "cell_type": "code",
   "execution_count": 216,
   "id": "e00ca078",
   "metadata": {},
   "outputs": [
    {
     "name": "stdout",
     "output_type": "stream",
     "text": [
      "Лучшая количество деревьев: 100 Лучшая правильность (\"accuracy\"): 0.7889273356401384\n",
      "CPU times: user 28.1 s, sys: 677 ms, total: 28.7 s\n",
      "Wall time: 31.6 s\n"
     ]
    }
   ],
   "source": [
    "%%time\n",
    "\n",
    "best_estim = 0\n",
    "best_accuracy = 0\n",
    "\n",
    "for estim in range(1, 101):\n",
    "    model = RandomForestClassifier(random_state=2355555, n_estimators=estim)\n",
    "    model.fit(train_data_features, train_data_target)\n",
    "    valid_predictions = model.predict(validation_data_features)\n",
    "    accuracy = accuracy_score(validation_data_target, valid_predictions)\n",
    "    # print('Количество деревьев', estim,'Точность', accuracy)\n",
    "    if accuracy > best_accuracy:\n",
    "        best_estim = estim\n",
    "        best_accuracy_randomforest = accuracy\n",
    "\n",
    "print('Лучшая количество деревьев:', best_estim, 'Лучшая правильность (\"accuracy\"):', best_accuracy_randomforest)     "
   ]
  },
  {
   "cell_type": "markdown",
   "id": "a277f8a6",
   "metadata": {},
   "source": [
    "Измерим точность модели при __n_estimators=18__."
   ]
  },
  {
   "cell_type": "code",
   "execution_count": 217,
   "id": "cd23fc50",
   "metadata": {},
   "outputs": [
    {
     "name": "stdout",
     "output_type": "stream",
     "text": [
      "Лучшая количество деревьев: 18 Лучшая правильность (\"accuracy\"): 0.7923875432525952\n",
      "CPU times: user 125 ms, sys: 6.07 ms, total: 131 ms\n",
      "Wall time: 186 ms\n"
     ]
    }
   ],
   "source": [
    "%%time\n",
    "\n",
    "best_forest_model = RandomForestClassifier(random_state=2355555, n_estimators=18)\n",
    "best_forest_model.fit(train_data_features, train_data_target)\n",
    "valid_predictions = best_forest_model.predict(validation_data_features)\n",
    "best_accuracy_randomforest = accuracy_score(validation_data_target, valid_predictions)\n",
    "print('Лучшая количество деревьев: 18', 'Лучшая правильность (\"accuracy\"):', best_accuracy_randomforest)   "
   ]
  },
  {
   "cell_type": "markdown",
   "id": "08340b7a",
   "metadata": {},
   "source": [
    "- ___criterion=\"gini\" --> criterion=\"entropy\"___"
   ]
  },
  {
   "cell_type": "code",
   "execution_count": 218,
   "id": "e087490b",
   "metadata": {},
   "outputs": [
    {
     "name": "stdout",
     "output_type": "stream",
     "text": [
      "Лучшая количество деревьев: 18 Лучшая правильность (\"accuracy\") при criterion=\"entropy\": 0\n",
      "CPU times: user 143 ms, sys: 6.84 ms, total: 149 ms\n",
      "Wall time: 180 ms\n"
     ]
    }
   ],
   "source": [
    "%%time\n",
    "\n",
    "model = RandomForestClassifier(random_state=2355555, n_estimators=18, criterion='entropy')\n",
    "model.fit(train_data_features, train_data_target)\n",
    "valid_predictions = model.predict(validation_data_features)\n",
    "accuracy = accuracy_score(validation_data_target, valid_predictions)\n",
    "print('Лучшая количество деревьев: 18', 'Лучшая правильность (\"accuracy\") при criterion=\"entropy\":', best_accuracy)   "
   ]
  },
  {
   "cell_type": "markdown",
   "id": "d6040567",
   "metadata": {},
   "source": [
    "- **_bootstrap_ с True на False**"
   ]
  },
  {
   "cell_type": "code",
   "execution_count": 219,
   "id": "a93db772",
   "metadata": {},
   "outputs": [
    {
     "name": "stdout",
     "output_type": "stream",
     "text": [
      "Лучшая количество деревьев: 18 Лучшая правильность (\"accuracy\") при bootstrap=False: 0\n",
      "CPU times: user 156 ms, sys: 6.04 ms, total: 162 ms\n",
      "Wall time: 188 ms\n"
     ]
    }
   ],
   "source": [
    "%%time\n",
    "\n",
    "model = RandomForestClassifier(random_state=2355555, n_estimators=18, bootstrap=False)\n",
    "model.fit(train_data_features, train_data_target)\n",
    "valid_predictions = model.predict(validation_data_features)\n",
    "accuracy = accuracy_score(validation_data_target, valid_predictions)\n",
    "print('Лучшая количество деревьев: 18', 'Лучшая правильность (\"accuracy\") при bootstrap=False:', best_accuracy)  "
   ]
  },
  {
   "cell_type": "markdown",
   "id": "27f97796",
   "metadata": {},
   "source": [
    "Никаких изменений в метрике accruracy нет."
   ]
  },
  {
   "cell_type": "markdown",
   "id": "406a8171",
   "metadata": {},
   "source": [
    "- **_warm_start_ с False на True**"
   ]
  },
  {
   "cell_type": "code",
   "execution_count": 220,
   "id": "0cf76735",
   "metadata": {},
   "outputs": [
    {
     "name": "stdout",
     "output_type": "stream",
     "text": [
      "Лучшая количество деревьев: 18 Лучшая правильность (\"accuracy\") при warm_start=False: 0\n",
      "CPU times: user 135 ms, sys: 5.7 ms, total: 141 ms\n",
      "Wall time: 184 ms\n"
     ]
    }
   ],
   "source": [
    "%%time\n",
    "\n",
    "model = RandomForestClassifier(random_state=2355555, n_estimators=18, warm_start=True)\n",
    "model.fit(train_data_features, train_data_target)\n",
    "valid_predictions = model.predict(validation_data_features)\n",
    "accuracy = accuracy_score(validation_data_target, valid_predictions)\n",
    "print('Лучшая количество деревьев: 18', 'Лучшая правильность (\"accuracy\") при warm_start=False:', best_accuracy)  "
   ]
  },
  {
   "cell_type": "markdown",
   "id": "b1b517e7",
   "metadata": {},
   "source": [
    "Никаких изменений в метрике accruracy нет."
   ]
  },
  {
   "cell_type": "markdown",
   "id": "ed3b7a8e",
   "metadata": {},
   "source": [
    "### 3.3 Logistic Regression"
   ]
  },
  {
   "cell_type": "code",
   "execution_count": 221,
   "id": "554d6b1c",
   "metadata": {},
   "outputs": [
    {
     "name": "stdout",
     "output_type": "stream",
     "text": [
      "Лучшая количество итераций: 200 \n",
      "Лучшая правильность (\"accuracy\"): 0.7197231833910035\n",
      "CPU times: user 15.9 s, sys: 339 ms, total: 16.2 s\n",
      "Wall time: 9.57 s\n"
     ]
    }
   ],
   "source": [
    "%%time\n",
    "\n",
    "best_max_iter = 0\n",
    "best_accuracy = 0\n",
    "\n",
    "for max_iter in range(1, 201):\n",
    "    model = LogisticRegression(random_state=2355555, max_iter=max_iter)\n",
    "    model.fit(train_data_features, train_data_target)\n",
    "    valid_predictions = model.predict(validation_data_features)\n",
    "    accuracy = accuracy_score(validation_data_target, valid_predictions)\n",
    "    if accuracy > best_accuracy:\n",
    "        best_max_iter = max_iter\n",
    "        best_accuracy_logreg = accuracy\n",
    "\n",
    "print('Лучшая количество итераций:', best_max_iter, '\\nЛучшая правильность (\"accuracy\"):', best_accuracy_logreg)    "
   ]
  },
  {
   "cell_type": "markdown",
   "id": "2e3d347a",
   "metadata": {},
   "source": [
    "**Лучшее количество итераций = 89.**"
   ]
  },
  {
   "cell_type": "code",
   "execution_count": 222,
   "id": "0b350476",
   "metadata": {},
   "outputs": [
    {
     "name": "stdout",
     "output_type": "stream",
     "text": [
      "Количество итераций: 100 \n",
      "Правильность (\"accuracy\"): 0.7197231833910035\n",
      "CPU times: user 111 ms, sys: 7.12 ms, total: 118 ms\n",
      "Wall time: 104 ms\n"
     ]
    }
   ],
   "source": [
    "%%time\n",
    "\n",
    "best_reg_model = LogisticRegression(random_state=2355555)\n",
    "best_reg_model.fit(train_data_features, train_data_target)\n",
    "valid_predictions = best_reg_model.predict(validation_data_features)\n",
    "\n",
    "best_accuracy_logreg = accuracy_score(validation_data_target, valid_predictions)\n",
    "print('Количество итераций:', 100, '\\nПравильность (\"accuracy\"):', best_accuracy_logreg)"
   ]
  },
  {
   "cell_type": "markdown",
   "id": "3419de7c",
   "metadata": {},
   "source": [
    "Увеличение в большую сторону ничего не меняет. Изменим другой гиперпараметр solver."
   ]
  },
  {
   "cell_type": "code",
   "execution_count": 223,
   "id": "d692fd50",
   "metadata": {},
   "outputs": [
    {
     "name": "stdout",
     "output_type": "stream",
     "text": [
      "Solver: newton-cg Правильность: 0.7197231833910035\n",
      "Solver: sag Правильность: 0.6643598615916955\n",
      "Solver: lbfgs Правильность: 0.7197231833910035\n",
      "Solver: saga Правильность: 0.6643598615916955\n",
      "Solver: liblinear Правильность: 0.698961937716263\n",
      "\n",
      "Лучшая количество итераций: liblinear \n",
      "Лучшая правильность (\"accuracy\"): 0.698961937716263\n",
      "CPU times: user 522 ms, sys: 19.3 ms, total: 541 ms\n",
      "Wall time: 349 ms\n"
     ]
    }
   ],
   "source": [
    "%%time\n",
    "\n",
    "best_solver = ''\n",
    "best_accuracy = 0\n",
    "\n",
    "for solve in {'newton-cg', 'lbfgs', 'liblinear', 'sag', 'saga'}:\n",
    "    model = LogisticRegression(random_state=2355555, solver=solve)\n",
    "    model.fit(train_data_features, train_data_target)\n",
    "    valid_predictions = model.predict(validation_data_features)\n",
    "    accuracy = accuracy_score(validation_data_target, valid_predictions)\n",
    "    print('Solver:', solve, 'Правильность:',accuracy)\n",
    "    if accuracy > best_accuracy:\n",
    "        best_solver= solve\n",
    "        best_accuracy_logreg = accuracy\n",
    "print()\n",
    "print('Лучшая количество итераций:', best_solver, '\\nЛучшая правильность (\"accuracy\"):', best_accuracy_logreg)    "
   ]
  },
  {
   "cell_type": "markdown",
   "id": "7452026c",
   "metadata": {},
   "source": [
    "**Изменим в цикле гиперпараметр _С_.**"
   ]
  },
  {
   "cell_type": "code",
   "execution_count": 224,
   "id": "04337a9a",
   "metadata": {},
   "outputs": [
    {
     "name": "stdout",
     "output_type": "stream",
     "text": [
      "Лучший C: 2.0 \n",
      "Лучшая правильность (\"accuracy\"): 0.7197231833910035\n",
      "CPU times: user 2.01 s, sys: 55.8 ms, total: 2.06 s\n",
      "Wall time: 1.3 s\n"
     ]
    }
   ],
   "source": [
    "%%time\n",
    "\n",
    "best_C = 0.0\n",
    "best_accuracy = 0\n",
    "\n",
    "for float_c in [x/10 for x in range(1, 21)]:\n",
    "    model = LogisticRegression(random_state=2355555, C=float_c)\n",
    "    model.fit(train_data_features, train_data_target)\n",
    "    valid_predictions = model.predict(validation_data_features)\n",
    "    accuracy = accuracy_score(validation_data_target, valid_predictions)\n",
    "    if accuracy > best_accuracy:\n",
    "        best_C= float_c\n",
    "        best_accuracy_logreg = accuracy\n",
    "\n",
    "print('Лучший C:', best_C,'\\nЛучшая правильность (\"accuracy\"):', best_accuracy_logreg) "
   ]
  },
  {
   "cell_type": "markdown",
   "id": "908e29df",
   "metadata": {},
   "source": [
    "**ВЫВОД**"
   ]
  },
  {
   "cell_type": "markdown",
   "id": "257b4c0c",
   "metadata": {},
   "source": [
    "???"
   ]
  },
  {
   "cell_type": "markdown",
   "id": "2c694376",
   "metadata": {},
   "source": [
    "## 4 - Проверьте модель на тестовой выборке"
   ]
  },
  {
   "cell_type": "code",
   "execution_count": 225,
   "id": "b695bb7c",
   "metadata": {},
   "outputs": [
    {
     "name": "stdout",
     "output_type": "stream",
     "text": [
      "Правильность (\"accuracy\") модели решающего леса на тестовой выборке: 0.7988165680473372\n",
      "Правильность (\"accuracy\") модели решающего леса на тренировочной выборке: 0.7716262975778547\n",
      "\n",
      "Правильность (\"accuracy\") модели случайного леса на тестовой выборке: 0.7943786982248521\n",
      "Правильность (\"accuracy\") модели случайного леса на тренировочной выборке: 0.7923875432525952\n",
      "\n",
      "Правильность (\"accuracy\") модели логистической регресиии на тестовой выборке: 0.764792899408284\n",
      "Правильность (\"accuracy\") модели логистической регресиии на тренировочной выборке: 0.7197231833910035\n"
     ]
    }
   ],
   "source": [
    "test_predictions = best_tree_model.predict(test_data_features)\n",
    "accuracy = accuracy_score(test_data_target, test_predictions)\n",
    "print('Правильность (\"accuracy\") модели решающего леса на тестовой выборке:', accuracy)\n",
    "print('Правильность (\"accuracy\") модели решающего леса на тренировочной выборке:', best_accuracy_tree)\n",
    "print()\n",
    "test_predictions = best_forest_model.predict(test_data_features)\n",
    "accuracy = accuracy_score(test_data_target, test_predictions)\n",
    "print('Правильность (\"accuracy\") модели случайного леса на тестовой выборке:', accuracy)\n",
    "print('Правильность (\"accuracy\") модели случайного леса на тренировочной выборке:', best_accuracy_randomforest)\n",
    "print()\n",
    "test_predictions = best_reg_model.predict(test_data_features)\n",
    "accuracy = accuracy_score(test_data_target, test_predictions)\n",
    "print('Правильность (\"accuracy\") модели логистической регресиии на тестовой выборке:', accuracy)\n",
    "print('Правильность (\"accuracy\") модели логистической регресиии на тренировочной выборке:', best_accuracy_logreg) "
   ]
  },
  {
   "cell_type": "markdown",
   "id": "b0fab551",
   "metadata": {},
   "source": [
    "**ВЫВОД**"
   ]
  },
  {
   "cell_type": "markdown",
   "id": "edea8951",
   "metadata": {},
   "source": [
    "- **Случайный лес лучше, так как в нем максимально учтена проблема обученности модели, значения правильности модели (accuracy) на тренировочных и тестовых данных почти одинакова 0.79.**\n",
    "```\n",
    "Правильность (\"accuracy\") модели случайного леса на тестовой выборке: 0.7943786982248521\n",
    "Правильность (\"accuracy\") модели случайного леса на тренировочной выборке: 0.7923875432525952\n",
    "```"
   ]
  },
  {
   "cell_type": "markdown",
   "id": "3a0bb611",
   "metadata": {},
   "source": [
    "## 5 - Проверьте модели на адекватность"
   ]
  },
  {
   "cell_type": "markdown",
   "id": "359681e7",
   "metadata": {},
   "source": [
    "Оценить адекватность модели можно c помощью следующих метрик:\n",
    "\n",
    "- **правильность (accuracy)** - общая точность модели, отвечает за долю верных предсказаний, считает, сколько раз test_data_target == test_predictions;\n",
    "- **точность (precision)** - доля объектов, которые верно определены моделью и действительно являются верными (true positive);\n",
    "- **полнота (recall)** - выявляет, какую часть дорогих объектов выделила модель.\n"
   ]
  },
  {
   "cell_type": "markdown",
   "id": "efc3ba69",
   "metadata": {},
   "source": [
    "- **accuracy**"
   ]
  },
  {
   "cell_type": "code",
   "execution_count": 226,
   "id": "940ca49a",
   "metadata": {},
   "outputs": [
    {
     "name": "stdout",
     "output_type": "stream",
     "text": [
      "Метрика правильности \"accuracy\": 0.7943786982248521\n"
     ]
    }
   ],
   "source": [
    "test_predictions = best_forest_model.predict(test_data_features)\n",
    "accuracy = accuracy_score(test_data_target, test_predictions)\n",
    "print('Метрика правильности \"accuracy\":', accuracy)"
   ]
  },
  {
   "cell_type": "markdown",
   "id": "71619702",
   "metadata": {},
   "source": [
    "- **precision**"
   ]
  },
  {
   "cell_type": "code",
   "execution_count": 157,
   "id": "db3051be",
   "metadata": {},
   "outputs": [
    {
     "name": "stdout",
     "output_type": "stream",
     "text": [
      "Метрика \"precision\": 0.5303030303030303\n"
     ]
    }
   ],
   "source": [
    "import sklearn.metrics\n",
    "\n",
    "precision = sklearn.metrics.precision_score(test_predictions, test_data_target, pos_label=1)\n",
    "print('Метрика точности \"precision\":', precision)"
   ]
  },
  {
   "cell_type": "markdown",
   "id": "0cd89c76",
   "metadata": {},
   "source": [
    "- **recall**"
   ]
  },
  {
   "cell_type": "code",
   "execution_count": 161,
   "id": "04589246",
   "metadata": {},
   "outputs": [
    {
     "name": "stdout",
     "output_type": "stream",
     "text": [
      "Метрика полноты \"recall\": 0.5303030303030303\n"
     ]
    }
   ],
   "source": [
    "import sklearn.metrics\n",
    "\n",
    "recall = sklearn.metrics.recall_score(test_data_target, test_predictions, pos_label=1)\n",
    "print('Метрика полноты \"recall\":', recall)"
   ]
  },
  {
   "cell_type": "markdown",
   "id": "9195af3f",
   "metadata": {},
   "source": [
    "**Оценим метрики адекватности модели:**"
   ]
  },
  {
   "cell_type": "code",
   "execution_count": 160,
   "id": "c8d6ca51",
   "metadata": {
    "scrolled": true
   },
   "outputs": [
    {
     "name": "stdout",
     "output_type": "stream",
     "text": [
      "Метрика \"accuracy\": 0.7943786982248521\n",
      "Метрика \"precision\": 0.5303030303030303\n",
      "Метрика \"recall(полнота)\": 0.5303030303030303\n"
     ]
    }
   ],
   "source": [
    "print('Метрика \"accuracy\":', accuracy)\n",
    "print('Метрика \"precision\":', precision)\n",
    "print('Метрика \"recall(полнота)\":', recall)"
   ]
  },
  {
   "cell_type": "markdown",
   "id": "1cb49509",
   "metadata": {},
   "source": [
    "## Общий вывод"
   ]
  },
  {
   "cell_type": "markdown",
   "id": "dbed5c4c",
   "metadata": {},
   "source": [
    "Наибольшую правильность (accuracy) показала модель **случайного леса** с правильностью = 0.79, которая сможет максимально правильно подобрать (посоветовать) тариф \"Смарт\" или \"Ультра\" пользователю на основе различных признаков."
   ]
  },
  {
   "cell_type": "markdown",
   "id": "7f572420",
   "metadata": {},
   "source": [
    "Спасибо! :)"
   ]
  }
 ],
 "metadata": {
  "kernelspec": {
   "display_name": "Python 3 (ipykernel)",
   "language": "python",
   "name": "python3"
  },
  "language_info": {
   "codemirror_mode": {
    "name": "ipython",
    "version": 3
   },
   "file_extension": ".py",
   "mimetype": "text/x-python",
   "name": "python",
   "nbconvert_exporter": "python",
   "pygments_lexer": "ipython3",
   "version": "3.9.7"
  }
 },
 "nbformat": 4,
 "nbformat_minor": 5
}
